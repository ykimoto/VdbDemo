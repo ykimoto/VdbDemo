{
 "cells": [
  {
   "cell_type": "markdown",
   "metadata": {},
   "source": [
    "Example of doing Vector Search in Redis\n",
    "Create an account in the Redis cloud service and obtain the required credentials for connecting.\n",
    "Create a DB. Free tier provides you with one DB."
   ]
  },
  {
   "cell_type": "code",
   "execution_count": null,
   "metadata": {},
   "outputs": [],
   "source": [
    "# Install redis, pandas, sentence-transformers, tabulate. This may take a few minutes.\n",
    "!pip install redis pandas sentence-transformers tabulate"
   ]
  },
  {
   "cell_type": "code",
   "execution_count": null,
   "metadata": {},
   "outputs": [],
   "source": [
    "# Prepare to prompt for input\n",
    "from getpass import getpass"
   ]
  },
  {
   "cell_type": "code",
   "execution_count": null,
   "metadata": {},
   "outputs": [],
   "source": [
    "# Enter hostname for the Redis DB\n",
    "redisdb = getpass('Enter Redis DB hostname: ')"
   ]
  },
  {
   "cell_type": "code",
   "execution_count": null,
   "metadata": {},
   "outputs": [],
   "source": [
    "# Enter password for the Redis DB\n",
    "redispass = getpass('Enter Redis DB password: ')"
   ]
  },
  {
   "cell_type": "code",
   "execution_count": null,
   "metadata": {},
   "outputs": [],
   "source": [
    "# Enter port for the Redis DB\n",
    "redisport = getpass('Enter Redis DB port: ')"
   ]
  },
  {
   "cell_type": "code",
   "execution_count": null,
   "metadata": {},
   "outputs": [],
   "source": [
    "# Import the required libraries. This may take a few minutes.\n",
    "import json\n",
    "import time\n",
    "\n",
    "import numpy as np\n",
    "import pandas as pd\n",
    "import redis\n",
    "import requests\n",
    "from redis.commands.search.field import (\n",
    "    NumericField,\n",
    "    TagField,\n",
    "    TextField,\n",
    "    VectorField,\n",
    ")\n",
    "from redis.commands.search.indexDefinition import IndexDefinition, IndexType\n",
    "from redis.commands.search.query import Query\n",
    "from sentence_transformers import SentenceTransformer"
   ]
  },
  {
   "cell_type": "code",
   "execution_count": null,
   "metadata": {},
   "outputs": [],
   "source": [
    "# Load the example json \"bikes\" dataset\n",
    "url = \"https://raw.githubusercontent.com/bsbodden/redis_vss_getting_started/main/data/bikes.json\"\n",
    "response = requests.get(url)\n",
    "bikes = response.json()"
   ]
  },
  {
   "cell_type": "code",
   "execution_count": null,
   "metadata": {},
   "outputs": [],
   "source": [
    "# Take a look at the first record\n",
    "json.dumps(bikes[0], indent=2)"
   ]
  },
  {
   "cell_type": "code",
   "execution_count": null,
   "metadata": {},
   "outputs": [],
   "source": [
    "# Specify the pre-trained model to use to generate embeddings. This may take a few minutes.\n",
    "from sentence_transformers import SentenceTransformer\n",
    "\n",
    "embedder = SentenceTransformer('msmarco-distilbert-base-v4')"
   ]
  },
  {
   "cell_type": "code",
   "execution_count": null,
   "metadata": {},
   "outputs": [],
   "source": [
    "# Connect to Redis DB and check that we are connected\n",
    "r = redis.Redis(host=redisdb, port=redisport, password=redispass, decode_responses=True)\n",
    "res = r.ping()\n",
    "print(res)\n"
   ]
  },
  {
   "cell_type": "code",
   "execution_count": null,
   "metadata": {},
   "outputs": [],
   "source": [
    "# Iterate through the bikes dataset and add each record to the Redis DB\n",
    "pipeline = r.pipeline()\n",
    "for i, bike in enumerate(bikes, start=1):\n",
    "    redis_key = f\"bikes:{i:03}\"\n",
    "    pipeline.json().set(redis_key, \"$\", bike)\n",
    "res = pipeline.execute()\n",
    "\n",
    "# Check that the records were added\n",
    "res = r.json().get(\"bikes:010\", \"$.model\")\n",
    "print(res)\n"
   ]
  },
  {
   "cell_type": "code",
   "execution_count": null,
   "metadata": {},
   "outputs": [],
   "source": [
    "# Collect the Redis keys for the bikes dataset\n",
    "keys = sorted(r.keys(\"bikes:*\"))"
   ]
  },
  {
   "cell_type": "code",
   "execution_count": null,
   "metadata": {},
   "outputs": [],
   "source": [
    "# Use the keys collected to generate embeddings for each record\n",
    "descriptions = r.json().mget(keys, \"$.description\")\n",
    "descriptions = [item for sublist in descriptions for item in sublist]\n",
    "embeddings = embedder.encode(descriptions).astype(np.float32).tolist()\n",
    "\n",
    "# Get the dimensions of the embeddings\n",
    "VECTOR_DIMENSION = len(embeddings[0])\n",
    "print(f\"Embedding dimension: {VECTOR_DIMENSION}\")\n"
   ]
  },
  {
   "cell_type": "code",
   "execution_count": null,
   "metadata": {},
   "outputs": [],
   "source": [
    "# Add the embeddings to the Redis DB\n",
    "pipeline = r.pipeline()\n",
    "for key, embedding in zip(keys, embeddings):\n",
    "    pipeline.json().set(key, \"$.description_embeddings\", embedding)\n",
    "pipeline.execute()"
   ]
  },
  {
   "cell_type": "code",
   "execution_count": null,
   "metadata": {},
   "outputs": [],
   "source": [
    "# Check that the embeddings were added\n",
    "res = r.json().get(\"bikes:010\", \"$.description_embeddings\")\n",
    "print(res)"
   ]
  },
  {
   "cell_type": "code",
   "execution_count": null,
   "metadata": {},
   "outputs": [],
   "source": [
    "# Create the index definition\n",
    "schema = (\n",
    "    TextField(\"$.model\", no_stem=True, as_name=\"model\"),\n",
    "    TextField(\"$.brand\", no_stem=True, as_name=\"brand\"),\n",
    "    NumericField(\"$.price\", as_name=\"price\"),\n",
    "    TagField(\"$.type\", as_name=\"type\"),\n",
    "    TextField(\"$.description\", as_name=\"description\"),\n",
    "    VectorField(\n",
    "        \"$.description_embeddings\",\n",
    "        \"FLAT\",\n",
    "        {\n",
    "            \"TYPE\": \"FLOAT32\",\n",
    "            \"DIM\": VECTOR_DIMENSION,\n",
    "            \"DISTANCE_METRIC\": \"COSINE\",\n",
    "        },\n",
    "        as_name=\"vector\",\n",
    "    ),\n",
    ")\n",
    "definition = IndexDefinition(prefix=[\"bikes:\"], index_type=IndexType.JSON)\n",
    "res = r.ft(\"idx:bikes_vss\").create_index(\n",
    "    fields=schema, definition=definition\n",
    ")\n",
    "print(res)"
   ]
  },
  {
   "cell_type": "code",
   "execution_count": null,
   "metadata": {},
   "outputs": [],
   "source": [
    "# Check that the index was created\n",
    "info = r.ft(\"idx:bikes_vss\").info()\n",
    "num_docs = info[\"num_docs\"]\n",
    "indexing_failures = info[\"hash_indexing_failures\"]\n",
    "print(f\"Number of documents indexed: {num_docs}\")\n",
    "print(f\"Number of indexing failures: {indexing_failures}\")"
   ]
  },
  {
   "cell_type": "code",
   "execution_count": null,
   "metadata": {},
   "outputs": [],
   "source": [
    "# Run a query that matches a certain bike model\n",
    "query = Query(\"@brand:Peaknetic\")\n",
    "res = r.ft(\"idx:bikes_vss\").search(query).docs\n",
    "print(res)"
   ]
  },
  {
   "cell_type": "code",
   "execution_count": null,
   "metadata": {},
   "outputs": [],
   "source": [
    "# Run a query that returns specific fields\n",
    "query = Query(\"@brand:Peaknetic\").return_fields(\"id\", \"brand\", \"model\", \"price\")\n",
    "res = r.ft(\"idx:bikes_vss\").search(query).docs\n",
    "print(res)"
   ]
  },
  {
   "cell_type": "code",
   "execution_count": null,
   "metadata": {},
   "outputs": [],
   "source": [
    "# Run a query with multiple conditions\n",
    "query = Query(\"@brand:Peaknetic @price:[0 1000]\").return_fields(\n",
    "    \"id\", \"brand\", \"model\", \"price\"\n",
    ")\n",
    "res = r.ft(\"idx:bikes_vss\").search(query).docs\n",
    "print(res)"
   ]
  },
  {
   "cell_type": "code",
   "execution_count": null,
   "metadata": {},
   "outputs": [],
   "source": [
    "# Create a list of queries and generate embeddings for each\n",
    "queries = [\n",
    "    \"Bike for small kids\",\n",
    "    \"Best Mountain bikes for kids\",\n",
    "    \"Cheap Mountain bike for kids\",\n",
    "    \"Female specific mountain bike\",\n",
    "    \"Road bike for beginners\",\n",
    "    \"Commuter bike for people over 60\",\n",
    "    \"Comfortable commuter bike\",\n",
    "    \"Good bike for college students\",\n",
    "    \"Mountain bike for beginners\",\n",
    "    \"Vintage bike\",\n",
    "    \"Comfortable city bike\",\n",
    "]\n",
    "\n",
    "encoded_queries = embedder.encode(queries)\n",
    "len(encoded_queries)"
   ]
  },
  {
   "cell_type": "code",
   "execution_count": null,
   "metadata": {},
   "outputs": [],
   "source": [
    "# Run the queries against the Redis DB\n",
    "def create_query_table(query, queries, encoded_queries, extra_params={}):\n",
    "    results_list = []\n",
    "    for i, encoded_query in enumerate(encoded_queries):\n",
    "        result_docs = (\n",
    "            r.ft(\"idx:bikes_vss\")\n",
    "            .search(\n",
    "                query,\n",
    "                {\n",
    "                    \"query_vector\": np.array(\n",
    "                        encoded_query, dtype=np.float32\n",
    "                    ).tobytes()\n",
    "                }\n",
    "                | extra_params,\n",
    "            )\n",
    "            .docs\n",
    "        )\n",
    "        for doc in result_docs:\n",
    "            vector_score = round(1 - float(doc.vector_score), 2)\n",
    "            results_list.append(\n",
    "                {\n",
    "                    \"query\": queries[i],\n",
    "                    \"score\": vector_score,\n",
    "                    \"id\": doc.id,\n",
    "                    \"brand\": doc.brand,\n",
    "                    \"model\": doc.model,\n",
    "                    \"description\": doc.description,\n",
    "                }\n",
    "            )\n",
    "\n",
    "    # Convert the table to Markdown using Pandas\n",
    "    queries_table = pd.DataFrame(results_list)\n",
    "    queries_table.sort_values(\n",
    "        by=[\"query\", \"score\"], ascending=[True, False], inplace=True\n",
    "    )\n",
    "    queries_table[\"query\"] = queries_table.groupby(\"query\")[\"query\"].transform(\n",
    "        lambda x: [x.iloc[0]] + [\"\"] * (len(x) - 1)\n",
    "    )\n",
    "    queries_table[\"description\"] = queries_table[\"description\"].apply(\n",
    "        lambda x: (x[:497] + \"...\") if len(x) > 500 else x\n",
    "    )\n",
    "    print(queries_table.to_markdown(index=False))\n",
    "    \n"
   ]
  },
  {
   "cell_type": "code",
   "execution_count": null,
   "metadata": {},
   "outputs": [],
   "source": [
    "# Run a vector similarity search query\n",
    "query = (\n",
    "    Query(\"(*)=>[KNN 3 @vector $query_vector AS vector_score]\")\n",
    "    .sort_by(\"vector_score\")\n",
    "    .return_fields(\"vector_score\", \"id\", \"brand\", \"model\", \"description\")\n",
    "    .dialect(2)\n",
    ")\n",
    "\n",
    "create_query_table(query, queries, encoded_queries)\n"
   ]
  },
  {
   "cell_type": "code",
   "execution_count": null,
   "metadata": {},
   "outputs": [],
   "source": [
    "\n",
    "# Run a hybrid query that combines text search and vector search\n",
    "hybrid_query = (\n",
    "    Query(\"(@brand:Peaknetic)=>[KNN 3 @vector $query_vector AS vector_score]\")\n",
    "    .sort_by(\"vector_score\")\n",
    "    .return_fields(\"vector_score\", \"id\", \"brand\", \"model\", \"description\")\n",
    "    .dialect(2)\n",
    ")\n",
    "create_query_table(hybrid_query, queries, encoded_queries)\n"
   ]
  },
  {
   "cell_type": "code",
   "execution_count": null,
   "metadata": {},
   "outputs": [],
   "source": [
    "\n",
    "# Run a range query\n",
    "range_query = (\n",
    "    Query(\n",
    "        \"@vector:[VECTOR_RANGE $range $query_vector]=>{$YIELD_DISTANCE_AS: vector_score}\"\n",
    "    )\n",
    "    .sort_by(\"vector_score\")\n",
    "    .return_fields(\"vector_score\", \"id\", \"brand\", \"model\", \"description\")\n",
    "    .paging(0, 4)\n",
    "    .dialect(2)\n",
    ")\n",
    "create_query_table(\n",
    "    range_query, queries[:1], encoded_queries[:1], {\"range\": 0.55}\n",
    ")"
   ]
  },
  {
   "cell_type": "code",
   "execution_count": null,
   "metadata": {},
   "outputs": [],
   "source": [
    "# Cleanup (delete all keys in DB)\n",
    "r.flushdb()"
   ]
  }
 ],
 "metadata": {
  "kernelspec": {
   "display_name": "Python 3",
   "language": "python",
   "name": "python3"
  },
  "language_info": {
   "codemirror_mode": {
    "name": "ipython",
    "version": 3
   },
   "file_extension": ".py",
   "mimetype": "text/x-python",
   "name": "python",
   "nbconvert_exporter": "python",
   "pygments_lexer": "ipython3",
   "version": "3.11.4"
  },
  "orig_nbformat": 4
 },
 "nbformat": 4,
 "nbformat_minor": 2
}
